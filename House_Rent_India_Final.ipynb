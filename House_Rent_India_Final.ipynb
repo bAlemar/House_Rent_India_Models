{
 "cells": [
  {
   "cell_type": "markdown",
   "id": "d616602a",
   "metadata": {},
   "source": [
    "# House Rent India\n",
    "### Analise das variáveis e seleção para modelo"
   ]
  },
  {
   "cell_type": "code",
   "execution_count": 2,
   "id": "52069864",
   "metadata": {},
   "outputs": [
    {
     "name": "stdout",
     "output_type": "stream",
     "text": [
      "Int64Index([4185], dtype='int64')\n",
      "Int64Index([1837], dtype='int64')\n"
     ]
    }
   ],
   "source": [
    "import pandas as pd\n",
    "import numpy as np\n",
    "import matplotlib.pyplot as plt\n",
    "import plotly.express as px\n",
    "import seaborn as sns\n",
    "\n",
    "df = pd.read_csv(r'C:/Users/berna/Downloads/House_Rent_Dataset.csv')\n",
    "pd.set_option('display.max_rows', 500)\n",
    "#print(df.describe())\n",
    "#Taking off the outliers:\n",
    "print(df[df['Bathroom'] == 10].index)\n",
    "print(df[df['Rent'] == df.describe()['Rent']['max']].index)\n",
    "df = df.drop(index=[1837,4185]) #Outliers\n",
    "df = df.reset_index()\n",
    "df = df.drop(columns=['index'])"
   ]
  },
  {
   "cell_type": "code",
   "execution_count": 3,
   "id": "9dcca1ce",
   "metadata": {},
   "outputs": [],
   "source": [
    "#Verificando a cardinalidade das variaveis categóricas.\n",
    "#See how is frequency and cardinalidade of the categorical variables.\n",
    "#Iremos tentar diminuir a dimensão das variavéis que contém varias categórias."
   ]
  },
  {
   "cell_type": "code",
   "execution_count": 4,
   "id": "56e63450",
   "metadata": {},
   "outputs": [
    {
     "data": {
      "text/html": [
       "<div>\n",
       "<style scoped>\n",
       "    .dataframe tbody tr th:only-of-type {\n",
       "        vertical-align: middle;\n",
       "    }\n",
       "\n",
       "    .dataframe tbody tr th {\n",
       "        vertical-align: top;\n",
       "    }\n",
       "\n",
       "    .dataframe thead th {\n",
       "        text-align: right;\n",
       "    }\n",
       "</style>\n",
       "<table border=\"1\" class=\"dataframe\">\n",
       "  <thead>\n",
       "    <tr style=\"text-align: right;\">\n",
       "      <th></th>\n",
       "      <th>feature</th>\n",
       "      <th>dtypes</th>\n",
       "      <th>len(unique)</th>\n",
       "      <th>most_frequent</th>\n",
       "      <th>most_frequent(name)</th>\n",
       "    </tr>\n",
       "  </thead>\n",
       "  <tbody>\n",
       "    <tr>\n",
       "      <th>6</th>\n",
       "      <td>Area Locality</td>\n",
       "      <td>object</td>\n",
       "      <td>2234</td>\n",
       "      <td>0.007799</td>\n",
       "      <td>Bandra West</td>\n",
       "    </tr>\n",
       "    <tr>\n",
       "      <th>3</th>\n",
       "      <td>Size</td>\n",
       "      <td>int64</td>\n",
       "      <td>614</td>\n",
       "      <td>0.050590</td>\n",
       "      <td>1000</td>\n",
       "    </tr>\n",
       "    <tr>\n",
       "      <th>4</th>\n",
       "      <td>Floor</td>\n",
       "      <td>object</td>\n",
       "      <td>480</td>\n",
       "      <td>0.079890</td>\n",
       "      <td>1 out of 2</td>\n",
       "    </tr>\n",
       "    <tr>\n",
       "      <th>2</th>\n",
       "      <td>Rent</td>\n",
       "      <td>int64</td>\n",
       "      <td>242</td>\n",
       "      <td>0.057968</td>\n",
       "      <td>15000</td>\n",
       "    </tr>\n",
       "    <tr>\n",
       "      <th>0</th>\n",
       "      <td>Posted On</td>\n",
       "      <td>object</td>\n",
       "      <td>81</td>\n",
       "      <td>0.065556</td>\n",
       "      <td>2022-07-06</td>\n",
       "    </tr>\n",
       "    <tr>\n",
       "      <th>10</th>\n",
       "      <td>Bathroom</td>\n",
       "      <td>int64</td>\n",
       "      <td>7</td>\n",
       "      <td>0.482926</td>\n",
       "      <td>2</td>\n",
       "    </tr>\n",
       "    <tr>\n",
       "      <th>1</th>\n",
       "      <td>BHK</td>\n",
       "      <td>int64</td>\n",
       "      <td>6</td>\n",
       "      <td>0.477445</td>\n",
       "      <td>2</td>\n",
       "    </tr>\n",
       "    <tr>\n",
       "      <th>7</th>\n",
       "      <td>City</td>\n",
       "      <td>object</td>\n",
       "      <td>6</td>\n",
       "      <td>0.204890</td>\n",
       "      <td>Mumbai</td>\n",
       "    </tr>\n",
       "    <tr>\n",
       "      <th>5</th>\n",
       "      <td>Area Type</td>\n",
       "      <td>object</td>\n",
       "      <td>3</td>\n",
       "      <td>0.515388</td>\n",
       "      <td>Super Area</td>\n",
       "    </tr>\n",
       "    <tr>\n",
       "      <th>8</th>\n",
       "      <td>Furnishing Status</td>\n",
       "      <td>object</td>\n",
       "      <td>3</td>\n",
       "      <td>0.474283</td>\n",
       "      <td>Semi-Furnished</td>\n",
       "    </tr>\n",
       "    <tr>\n",
       "      <th>9</th>\n",
       "      <td>Tenant Preferred</td>\n",
       "      <td>object</td>\n",
       "      <td>3</td>\n",
       "      <td>0.725759</td>\n",
       "      <td>Bachelors/Family</td>\n",
       "    </tr>\n",
       "    <tr>\n",
       "      <th>11</th>\n",
       "      <td>Point of Contact</td>\n",
       "      <td>object</td>\n",
       "      <td>3</td>\n",
       "      <td>0.677698</td>\n",
       "      <td>Contact Owner</td>\n",
       "    </tr>\n",
       "  </tbody>\n",
       "</table>\n",
       "</div>"
      ],
      "text/plain": [
       "              feature  dtypes  len(unique)  most_frequent most_frequent(name)\n",
       "6       Area Locality  object         2234       0.007799         Bandra West\n",
       "3                Size   int64          614       0.050590                1000\n",
       "4               Floor  object          480       0.079890          1 out of 2\n",
       "2                Rent   int64          242       0.057968               15000\n",
       "0           Posted On  object           81       0.065556          2022-07-06\n",
       "10           Bathroom   int64            7       0.482926                   2\n",
       "1                 BHK   int64            6       0.477445                   2\n",
       "7                City  object            6       0.204890              Mumbai\n",
       "5           Area Type  object            3       0.515388          Super Area\n",
       "8   Furnishing Status  object            3       0.474283      Semi-Furnished\n",
       "9    Tenant Preferred  object            3       0.725759    Bachelors/Family\n",
       "11   Point of Contact  object            3       0.677698       Contact Owner"
      ]
     },
     "execution_count": 4,
     "metadata": {},
     "output_type": "execute_result"
    }
   ],
   "source": [
    "def freq_data(df):\n",
    "    df_2 = df.copy()\n",
    "    dict_len = {'feature':[],'dtypes':[],'len(unique)':[],\n",
    "                'most_frequent':[],'most_frequent(name)':[]}\n",
    "    for i in df_2.columns:\n",
    "        dict_len['feature'].append(i)\n",
    "        dict_len['dtypes'].append(df[i].dtypes)\n",
    "        dict_len['len(unique)'].append(len(df_2[i].unique()))\n",
    "        dict_len['most_frequent(name)'].append(df_2[i].value_counts(100).sort_values(ascending=False).index[0])\n",
    "        dict_len['most_frequent'].append(df_2[i].value_counts(100).sort_values(ascending=False).values[0])\n",
    "        df_feature = pd.DataFrame(dict_len)\n",
    "        df_feature = df_feature.sort_values(by='len(unique)',ascending=False)\n",
    "    return df_feature\n",
    "freq_data(df)\n"
   ]
  },
  {
   "cell_type": "markdown",
   "id": "c06b607f",
   "metadata": {},
   "source": [
    "## Posted ON\n",
    "Nota-se que temos uma crescente nos valores dos aluguéis de acordo com aumento dos meses."
   ]
  },
  {
   "cell_type": "code",
   "execution_count": 5,
   "id": "b443603e",
   "metadata": {
    "scrolled": true
   },
   "outputs": [
    {
     "name": "stdout",
     "output_type": "stream",
     "text": [
      "       Posted On   Rent\n",
      "0     2022-05-18  10000\n",
      "1     2022-05-13  20000\n",
      "2     2022-05-16  17000\n",
      "3     2022-07-04  10000\n",
      "4     2022-05-09   7500\n",
      "...          ...    ...\n",
      "4739  2022-05-18  15000\n",
      "4740  2022-05-15  29000\n",
      "4741  2022-07-10  35000\n",
      "4742  2022-07-06  45000\n",
      "4743  2022-05-04  15000\n",
      "\n",
      "[4744 rows x 2 columns]\n",
      "                  Rent              \n",
      "                   sum count average\n",
      "Month_number                        \n",
      "4              4348075   228   19070\n",
      "5             46321945  1681   27556\n",
      "6             65803290  1857   35435\n",
      "7             45905610   978   46938\n"
     ]
    },
    {
     "name": "stderr",
     "output_type": "stream",
     "text": [
      "C:\\Users\\berna\\AppData\\Local\\Temp\\ipykernel_21424\\1639817420.py:9: SettingWithCopyWarning: \n",
      "A value is trying to be set on a copy of a slice from a DataFrame.\n",
      "Try using .loc[row_indexer,col_indexer] = value instead\n",
      "\n",
      "See the caveats in the documentation: https://pandas.pydata.org/pandas-docs/stable/user_guide/indexing.html#returning-a-view-versus-a-copy\n",
      "  df_rent['Month_number'] = df_rent['Posted On'].astype({'Posted On': 'datetime64[ns]'})\n",
      "C:\\Users\\berna\\AppData\\Local\\Temp\\ipykernel_21424\\1639817420.py:10: SettingWithCopyWarning: \n",
      "A value is trying to be set on a copy of a slice from a DataFrame.\n",
      "Try using .loc[row_indexer,col_indexer] = value instead\n",
      "\n",
      "See the caveats in the documentation: https://pandas.pydata.org/pandas-docs/stable/user_guide/indexing.html#returning-a-view-versus-a-copy\n",
      "  df_rent['Month_number'] = df_rent['Month_number'].dt.month\n"
     ]
    },
    {
     "data": {
      "image/png": "[encoded data removed]",
      "text/plain": [
       "<Figure size 720x720 with 1 Axes>"
      ]
     },
     "metadata": {
      "needs_background": "light"
     },
     "output_type": "display_data"
    }
   ],
   "source": [
    "#redução da dimensionalidade da Coluna Posted On\n",
    "\n",
    "#Groupy by month,week\n",
    "#Semana 1,2,3,4,5,6\n",
    "df_rent = df[['Posted On','Rent']]\n",
    "print(df_rent)\n",
    "def posted_on():\n",
    "    #df_rent['Week_number'] = df_rent['Posted On'].astype({'Posted On': 'datetime64[ns]'}).dt.isocalendar().week\n",
    "    df_rent['Month_number'] = df_rent['Posted On'].astype({'Posted On': 'datetime64[ns]'})\n",
    "    df_rent['Month_number'] = df_rent['Month_number'].dt.month\n",
    "    #print(sorted(df_rent['Week_number'].unique()))\n",
    "    #display(df_rent.sort_values(by='Posted On',ascending=True))\n",
    "    df_results = df_rent.groupby(by=['Month_number']).agg({'Rent':['sum','count']})\n",
    "    df_results['Rent','average'] = (df_results['Rent','sum']/df_results['Rent','count']).astype('int')\n",
    "    print(df_results)\n",
    "    plt.figure(figsize=(10,10))\n",
    "    plt.plot(sorted(df_rent.loc[:,'Month_number'].unique()),df_rent.groupby(by='Month_number').mean()['Rent'])\n",
    "    return df_rent\n",
    "posted_on()\n",
    "df['Month'] = df_rent['Month_number']"
   ]
  },
  {
   "cell_type": "markdown",
   "id": "15e0d047",
   "metadata": {},
   "source": [
    "##  Floor"
   ]
  },
  {
   "cell_type": "code",
   "execution_count": 6,
   "id": "d55441a7",
   "metadata": {
    "scrolled": true
   },
   "outputs": [
    {
     "name": "stderr",
     "output_type": "stream",
     "text": [
      "C:\\Users\\berna\\AppData\\Local\\Temp\\ipykernel_21424\\325723078.py:4: UserWarning: This pattern is interpreted as a regular expression, and has match groups. To actually get the groups, use str.extract.\n",
      "  type4 = df_floor[df_floor['Floor'].str.contains(r'(out of)')]\n"
     ]
    },
    {
     "name": "stdout",
     "output_type": "stream",
     "text": [
      "                     Rent                    \n",
      "                      sum count     sum/count\n",
      "Tipo_casa                                    \n",
      "Cobertura         1449000    23  63000.000000\n",
      "Predio Grande   101957157  1673  60942.711895\n",
      "Predio Pequeno   58972763  3048  19348.019357\n",
      "       Posted On  BHK   Rent  Size            Floor    Area Type  \\\n",
      "0     2022-05-18    2  10000  1100  Ground out of 2   Super Area   \n",
      "1     2022-05-13    2  20000   800       1 out of 3   Super Area   \n",
      "2     2022-05-16    2  17000  1000       1 out of 3   Super Area   \n",
      "3     2022-07-04    2  10000   800       1 out of 2   Super Area   \n",
      "4     2022-05-09    2   7500   850       1 out of 2  Carpet Area   \n",
      "...          ...  ...    ...   ...              ...          ...   \n",
      "4739  2022-05-18    2  15000  1000       3 out of 5  Carpet Area   \n",
      "4740  2022-05-15    3  29000  2000       1 out of 4   Super Area   \n",
      "4741  2022-07-10    3  35000  1750       3 out of 5  Carpet Area   \n",
      "4742  2022-07-06    3  45000  1500     23 out of 34  Carpet Area   \n",
      "4743  2022-05-04    2  15000  1000       4 out of 5  Carpet Area   \n",
      "\n",
      "                 Area Locality       City Furnishing Status  Tenant Preferred  \\\n",
      "0                       Bandel    Kolkata       Unfurnished  Bachelors/Family   \n",
      "1     Phool Bagan, Kankurgachi    Kolkata    Semi-Furnished  Bachelors/Family   \n",
      "2      Salt Lake City Sector 2    Kolkata    Semi-Furnished  Bachelors/Family   \n",
      "3                  Dumdum Park    Kolkata       Unfurnished  Bachelors/Family   \n",
      "4                South Dum Dum    Kolkata       Unfurnished         Bachelors   \n",
      "...                        ...        ...               ...               ...   \n",
      "4739              Bandam Kommu  Hyderabad    Semi-Furnished  Bachelors/Family   \n",
      "4740      Manikonda, Hyderabad  Hyderabad    Semi-Furnished  Bachelors/Family   \n",
      "4741      Himayath Nagar, NH 7  Hyderabad    Semi-Furnished  Bachelors/Family   \n",
      "4742                Gachibowli  Hyderabad    Semi-Furnished            Family   \n",
      "4743           Suchitra Circle  Hyderabad       Unfurnished         Bachelors   \n",
      "\n",
      "      Bathroom Point of Contact  Month      Type_House  \n",
      "0            2    Contact Owner      5  Predio Pequeno  \n",
      "1            1    Contact Owner      5  Predio Pequeno  \n",
      "2            1    Contact Owner      5  Predio Pequeno  \n",
      "3            1    Contact Owner      7  Predio Pequeno  \n",
      "4            1    Contact Owner      5  Predio Pequeno  \n",
      "...        ...              ...    ...             ...  \n",
      "4739         2    Contact Owner      5   Predio Grande  \n",
      "4740         3    Contact Owner      5  Predio Pequeno  \n",
      "4741         3    Contact Agent      7   Predio Grande  \n",
      "4742         2    Contact Agent      7   Predio Grande  \n",
      "4743         2    Contact Owner      5   Predio Grande  \n",
      "\n",
      "[4744 rows x 14 columns]\n"
     ]
    },
    {
     "data": {
      "image/png": "[encoded data removed]",
      "text/plain": [
       "<Figure size 360x360 with 1 Axes>"
      ]
     },
     "metadata": {
      "needs_background": "light"
     },
     "output_type": "display_data"
    }
   ],
   "source": [
    "df_floor = pd.DataFrame()\n",
    "df_floor['Floor'] = df['Floor'].copy()\n",
    "#Tipo de categotias que temos em ['Floor']\n",
    "type4 = df_floor[df_floor['Floor'].str.contains(r'(out of)')]\n",
    "#Colunas serem preenchidas\n",
    "df_floor['Number_floor'] = np.nan\n",
    "df_floor['Total_floor'] = np.nan\n",
    "df_floor['Tipo_casa'] = np.nan\n",
    "\n",
    "#Armazenamento de dados\n",
    "def floor(tipo):\n",
    "    for i in tipo.index:\n",
    "        #if tipo == 'type1':\n",
    "        df_floor.loc[i,'Number_floor'] = df_floor.loc[i,'Floor'].split('out of')[0]\n",
    "        df_floor.loc[i,'Total_floor'] = df_floor.loc[i,'Floor'].split('out of')[-1]\n",
    "        #elif tipo == 'type2':\n",
    "            #df_floor.loc[i,'Total_floor'] = df_floor.loc[i,'Floor'].split()\n",
    "    return df_floor\n",
    "floor(type4)\n",
    "df_floor['Rent'] = df['Rent'].copy()\n",
    "df_floor = df_floor.fillna(0)\n",
    "df_floor['Total_floor'] = df_floor['Total_floor'].astype('int')\n",
    "for i in range(len(df_floor)):\n",
    "    if df_floor.loc[i,'Number_floor'] == 'Upper Basement ': \n",
    "        df_floor.loc[i,'Tipo_casa'] = 'Cobertura'\n",
    "    else: \n",
    "        if df_floor.loc[i,'Total_floor'] >= 5:\n",
    "            df_floor.loc[i,'Tipo_casa'] = 'Predio Grande'\n",
    "        else:\n",
    "            df_floor.loc[i,'Tipo_casa'] = 'Predio Pequeno'\n",
    "df_results = df_floor.groupby('Tipo_casa').agg({'Rent':['sum','count']})\n",
    "df_results['Rent','sum/count'] = df_results['Rent','sum']/df_results['Rent','count']\n",
    "print(df_results)\n",
    "sns.catplot(x ='Tipo_casa' , y ='Rent',\n",
    "           data =df_floor)\n",
    "df['Type_House'] = df_floor['Tipo_casa']\n",
    "print(df)"
   ]
  },
  {
   "cell_type": "code",
   "execution_count": 7,
   "id": "618ffc4b",
   "metadata": {
    "scrolled": true
   },
   "outputs": [
    {
     "data": {
      "text/plain": [
       "<matplotlib.collections.PathCollection at 0x25ab389ffa0>"
      ]
     },
     "execution_count": 7,
     "metadata": {},
     "output_type": "execute_result"
    },
    {
     "data": {
      "image/png": "[encoded data removed]",
      "text/plain": [
       "<Figure size 432x288 with 1 Axes>"
      ]
     },
     "metadata": {
      "needs_background": "light"
     },
     "output_type": "display_data"
    }
   ],
   "source": [
    "a=df_floor[df_floor['Tipo_casa']=='Predio Pequeno']['Tipo_casa']\n",
    "b=df_floor[df_floor['Tipo_casa']=='Predio Pequeno']['Rent']\n",
    "plt.scatter(a,b)"
   ]
  },
  {
   "cell_type": "code",
   "execution_count": 8,
   "id": "ece62be1",
   "metadata": {},
   "outputs": [],
   "source": [
    "def check_variable(x,y,df):\n",
    "    df_aux = pd.DataFrame()\n",
    "    df_aux[x] = df[x].copy()\n",
    "    df_aux[y] = df[y].copy()\n",
    "    \n",
    "    print(df_aux[x].value_counts(100))\n",
    "    group = df_aux.groupby(by=x).sum()\n",
    "    group['per'] = group.apply(lambda x: x/x.sum())\n",
    "    print(group.sort_values(y,ascending=False))\n",
    "\n",
    "    df_results = df_aux.groupby(x).agg({y:['sum','count']}).sort_values([(y,'sum')],ascending=False)\n",
    "    df_results[y,'average'] = (df_results[y,'sum']/df_results[y,'count']).astype('int')\n",
    "    print(df_results)\n",
    "\n",
    "    sns.catplot(x = x , y = y,\n",
    "               data =df_aux)   \n",
    "    return"
   ]
  },
  {
   "cell_type": "code",
   "execution_count": 9,
   "id": "8ff3e20a",
   "metadata": {},
   "outputs": [],
   "source": [
    "## City"
   ]
  },
  {
   "cell_type": "code",
   "execution_count": 10,
   "id": "9d075868",
   "metadata": {
    "scrolled": true
   },
   "outputs": [
    {
     "name": "stdout",
     "output_type": "stream",
     "text": [
      "Mumbai       0.204890\n",
      "Chennai      0.187816\n",
      "Bangalore    0.186551\n",
      "Hyderabad    0.182757\n",
      "Delhi        0.127530\n",
      "Kolkata      0.110455\n",
      "Name: City, dtype: float64\n",
      "               Rent       per\n",
      "City                         \n",
      "Mumbai     82932211  0.510733\n",
      "Chennai    19258156  0.118600\n",
      "Bangalore  18620200  0.114671\n",
      "Delhi      17824500  0.109771\n",
      "Hyderabad  17641782  0.108646\n",
      "Kolkata     6102071  0.037579\n",
      "               Rent              \n",
      "                sum count average\n",
      "City                             \n",
      "Mumbai     82932211   972   85321\n",
      "Chennai    19258156   891   21614\n",
      "Bangalore  18620200   885   21039\n",
      "Delhi      17824500   605   29461\n",
      "Hyderabad  17641782   867   20348\n",
      "Kolkata     6102071   524   11645\n"
     ]
    },
    {
     "data": {
      "image/png": "[encoded data removed]",
      "text/plain": [
       "<Figure size 360x360 with 1 Axes>"
      ]
     },
     "metadata": {
      "needs_background": "light"
     },
     "output_type": "display_data"
    }
   ],
   "source": [
    "check_variable('City','Rent',df)"
   ]
  },
  {
   "cell_type": "code",
   "execution_count": 11,
   "id": "88090a9d",
   "metadata": {},
   "outputs": [],
   "source": [
    "## Area Type"
   ]
  },
  {
   "cell_type": "code",
   "execution_count": 12,
   "id": "53421f5c",
   "metadata": {
    "scrolled": true
   },
   "outputs": [
    {
     "name": "stdout",
     "output_type": "stream",
     "text": [
      "Super Area     0.515388\n",
      "Carpet Area    0.484191\n",
      "Built Area     0.000422\n",
      "Name: Area Type, dtype: float64\n",
      "                  Rent       per\n",
      "Area Type                       \n",
      "Carpet Area  116882792  0.719815\n",
      "Super Area    45475128  0.280056\n",
      "Built Area       21000  0.000129\n",
      "                  Rent              \n",
      "                   sum count average\n",
      "Area Type                           \n",
      "Carpet Area  116882792  2297   50884\n",
      "Super Area    45475128  2445   18599\n",
      "Built Area       21000     2   10500\n"
     ]
    },
    {
     "data": {
      "image/png": "[encoded data removed]",
      "text/plain": [
       "<Figure size 360x360 with 1 Axes>"
      ]
     },
     "metadata": {
      "needs_background": "light"
     },
     "output_type": "display_data"
    }
   ],
   "source": [
    "check_variable('Area Type','Rent',df)\n",
    "df['Area Type'].replace('Built Area','Super Area',inplace=True)"
   ]
  },
  {
   "cell_type": "code",
   "execution_count": 13,
   "id": "79e607b5",
   "metadata": {},
   "outputs": [],
   "source": [
    "## Furnishing Status"
   ]
  },
  {
   "cell_type": "code",
   "execution_count": 14,
   "id": "6dadffe3",
   "metadata": {
    "scrolled": true
   },
   "outputs": [
    {
     "name": "stdout",
     "output_type": "stream",
     "text": [
      "Semi-Furnished    0.474283\n",
      "Unfurnished       0.382378\n",
      "Furnished         0.143339\n",
      "Name: Furnishing Status, dtype: float64\n",
      "                       Rent       per\n",
      "Furnishing Status                    \n",
      "Semi-Furnished     83656043  0.515190\n",
      "Unfurnished        40567869  0.249835\n",
      "Furnished          38155008  0.234975\n",
      "                       Rent              \n",
      "                        sum count average\n",
      "Furnishing Status                        \n",
      "Semi-Furnished     83656043  2250   37180\n",
      "Unfurnished        40567869  1814   22363\n",
      "Furnished          38155008   680   56110\n"
     ]
    },
    {
     "data": {
      "image/png": "[encoded data removed]",
      "text/plain": [
       "<Figure size 360x360 with 1 Axes>"
      ]
     },
     "metadata": {
      "needs_background": "light"
     },
     "output_type": "display_data"
    }
   ],
   "source": [
    "check_variable('Furnishing Status','Rent',df)"
   ]
  },
  {
   "cell_type": "code",
   "execution_count": 15,
   "id": "8719bd08",
   "metadata": {},
   "outputs": [],
   "source": [
    "## Tenant Preferred"
   ]
  },
  {
   "cell_type": "code",
   "execution_count": 16,
   "id": "8d57f178",
   "metadata": {
    "scrolled": true
   },
   "outputs": [
    {
     "name": "stdout",
     "output_type": "stream",
     "text": [
      "Bachelors/Family    0.725759\n",
      "Bachelors           0.174747\n",
      "Family              0.099494\n",
      "Name: Tenant Preferred, dtype: float64\n",
      "                       Rent       per\n",
      "Tenant Preferred                     \n",
      "Bachelors/Family  107289970  0.660738\n",
      "Bachelors          31479349  0.193864\n",
      "Family             23609601  0.145398\n",
      "                       Rent              \n",
      "                        sum count average\n",
      "Tenant Preferred                         \n",
      "Bachelors/Family  107289970  3443   31161\n",
      "Bachelors          31479349   829   37972\n",
      "Family             23609601   472   50020\n"
     ]
    },
    {
     "data": {
      "image/png": "[encoded data removed]",
      "text/plain": [
       "<Figure size 360x360 with 1 Axes>"
      ]
     },
     "metadata": {
      "needs_background": "light"
     },
     "output_type": "display_data"
    }
   ],
   "source": [
    "check_variable('Tenant Preferred','Rent',df)"
   ]
  },
  {
   "cell_type": "code",
   "execution_count": 17,
   "id": "4a280442",
   "metadata": {},
   "outputs": [],
   "source": [
    "## Point of Contact"
   ]
  },
  {
   "cell_type": "code",
   "execution_count": 18,
   "id": "251d2632",
   "metadata": {
    "scrolled": true
   },
   "outputs": [
    {
     "name": "stdout",
     "output_type": "stream",
     "text": [
      "Contact Owner      0.677698\n",
      "Contact Agent      0.322091\n",
      "Contact Builder    0.000211\n",
      "Name: Point of Contact, dtype: float64\n",
      "                       Rent       per\n",
      "Point of Contact                     \n",
      "Contact Agent     108852692  0.670362\n",
      "Contact Owner      53520728  0.329604\n",
      "Contact Builder        5500  0.000034\n",
      "                       Rent              \n",
      "                        sum count average\n",
      "Point of Contact                         \n",
      "Contact Agent     108852692  1528   71238\n",
      "Contact Owner      53520728  3215   16647\n",
      "Contact Builder        5500     1    5500\n"
     ]
    },
    {
     "data": {
      "image/png": "[encoded data removed]",
      "text/plain": [
       "<Figure size 360x360 with 1 Axes>"
      ]
     },
     "metadata": {
      "needs_background": "light"
     },
     "output_type": "display_data"
    }
   ],
   "source": [
    "check_variable('Point of Contact','Rent',df)\n",
    "df['Point of Contact'].replace('Contact Builder','Contact Owner',inplace=True)"
   ]
  },
  {
   "cell_type": "markdown",
   "id": "a900df2a",
   "metadata": {},
   "source": [
    "### One Hot Encoder"
   ]
  },
  {
   "cell_type": "code",
   "execution_count": 45,
   "id": "512356da",
   "metadata": {
    "scrolled": false
   },
   "outputs": [
    {
     "name": "stderr",
     "output_type": "stream",
     "text": [
      "C:\\Users\\berna\\AppData\\Local\\Temp\\ipykernel_21424\\30853648.py:10: VisibleDeprecationWarning: Creating an ndarray from ragged nested sequences (which is a list-or-tuple of lists-or-tuples-or ndarrays with different lengths or shapes) is deprecated. If you meant to do this, you must specify 'dtype=object' when creating the ndarray.\n",
      "  feature_labels = np.array(feature_labels).ravel()\n"
     ]
    }
   ],
   "source": [
    "from sklearn.preprocessing import OneHotEncoder,LabelEncoder\n",
    "pd.set_option('display.max_rows',500)\n",
    "list_features = ['Area Type', 'City', 'Furnishing Status', 'Tenant Preferred',\n",
    "                         'Point of Contact', 'Type_House','Month']\n",
    "def OHE(list_features):    \n",
    "    oh = OneHotEncoder()\n",
    "    #print(df.columns)\n",
    "    feature_values = oh.fit_transform(df[list_features]).toarray()\n",
    "    feature_labels = oh.categories_\n",
    "    feature_labels = np.array(feature_labels).ravel()\n",
    "    colunas = []\n",
    "    for i in feature_labels:\n",
    "        for j in i:\n",
    "            colunas.append(j)\n",
    "    df_categorica = pd.DataFrame(feature_values, columns = colunas)\n",
    "\n",
    "    df_numerica = df[['BHK','Size','Bathroom']]\n",
    "    df_final = pd.merge(df_categorica,df_numerica,left_index=True,right_index=True)\n",
    "    return df_final\n",
    "df_final = OHE(list_features)\n",
    "                 \n",
    "#print(df_final[df_final.duplicated() == True]) ## Podemos fazer teste de com/sem esses valores\n",
    "#duplicados na variavel X."
   ]
  },
  {
   "cell_type": "markdown",
   "id": "64377101",
   "metadata": {},
   "source": [
    "## Models"
   ]
  },
  {
   "cell_type": "code",
   "execution_count": 74,
   "id": "558c6e5a",
   "metadata": {
    "scrolled": true
   },
   "outputs": [
    {
     "name": "stdout",
     "output_type": "stream",
     "text": [
      "score train 0.5243002155051364\n",
      "MAE test 22072.037961550544\n",
      "MSE test 2485849510.342635\n",
      "RMSE test 49858.2942983676\n"
     ]
    },
    {
     "name": "stderr",
     "output_type": "stream",
     "text": [
      "C:\\Users\\berna\\AppData\\Roaming\\Python\\Python39\\site-packages\\sklearn\\utils\\validation.py:1858: FutureWarning: Feature names only support names that are all strings. Got feature names with dtypes: ['int64', 'str']. An error will be raised in 1.2.\n",
      "  warnings.warn(\n",
      "C:\\Users\\berna\\AppData\\Roaming\\Python\\Python39\\site-packages\\sklearn\\utils\\validation.py:1858: FutureWarning: Feature names only support names that are all strings. Got feature names with dtypes: ['int64', 'str']. An error will be raised in 1.2.\n",
      "  warnings.warn(\n",
      "C:\\Users\\berna\\AppData\\Roaming\\Python\\Python39\\site-packages\\sklearn\\utils\\validation.py:1858: FutureWarning: Feature names only support names that are all strings. Got feature names with dtypes: ['int64', 'str']. An error will be raised in 1.2.\n",
      "  warnings.warn(\n",
      "C:\\Users\\berna\\AppData\\Roaming\\Python\\Python39\\site-packages\\sklearn\\utils\\validation.py:1858: FutureWarning: Feature names only support names that are all strings. Got feature names with dtypes: ['int64', 'str']. An error will be raised in 1.2.\n",
      "  warnings.warn(\n"
     ]
    },
    {
     "data": {
      "text/plain": [
       "<matplotlib.collections.PathCollection at 0x25acb123f70>"
      ]
     },
     "execution_count": 74,
     "metadata": {},
     "output_type": "execute_result"
    },
    {
     "data": {
      "image/png": "[encoded data removed]",
      "text/plain": [
       "<Figure size 432x288 with 1 Axes>"
      ]
     },
     "metadata": {},
     "output_type": "display_data"
    }
   ],
   "source": [
    "from sklearn.model_selection import train_test_split\n",
    "from sklearn.linear_model import LinearRegression\n",
    "from sklearn.metrics import recall_score,precision_score,accuracy_score,confusion_matrix,mean_absolute_error,mean_squared_error\n",
    "\n",
    "X = df_final.copy()\n",
    "y = df['Rent']\n",
    "\n",
    "\n",
    "\n",
    "X_train, X_test, y_train, y_test = train_test_split(X,y,random_state=0)        \n",
    "lr = LinearRegression()\n",
    "model = lr.fit(X_train,y_train)\n",
    "y_pred = model.predict(X_test)\n",
    "\n",
    "print('score train',model.score(X_train,y_train))\n",
    "print('MAE test',mean_absolute_error(y_test,y_pred))\n",
    "print('MSE test',mean_squared_error(y_test,y_pred))\n",
    "print('RMSE test',np.sqrt(mean_squared_error(y_test,y_pred)))\n",
    "plt.scatter(model.predict(X_train),y_train)\n",
    "\n"
   ]
  },
  {
   "cell_type": "code",
   "execution_count": 47,
   "id": "81c6235e",
   "metadata": {
    "scrolled": true
   },
   "outputs": [
    {
     "data": {
      "text/html": [
       "<table class=\"simpletable\">\n",
       "<caption>OLS Regression Results</caption>\n",
       "<tr>\n",
       "  <th>Dep. Variable:</th>          <td>Rent</td>       <th>  R-squared:         </th> <td>   0.524</td> \n",
       "</tr>\n",
       "<tr>\n",
       "  <th>Model:</th>                   <td>OLS</td>       <th>  Adj. R-squared:    </th> <td>   0.522</td> \n",
       "</tr>\n",
       "<tr>\n",
       "  <th>Method:</th>             <td>Least Squares</td>  <th>  F-statistic:       </th> <td>   205.2</td> \n",
       "</tr>\n",
       "<tr>\n",
       "  <th>Date:</th>             <td>Tue, 06 Sep 2022</td> <th>  Prob (F-statistic):</th>  <td>  0.00</td>  \n",
       "</tr>\n",
       "<tr>\n",
       "  <th>Time:</th>                 <td>13:52:13</td>     <th>  Log-Likelihood:    </th> <td> -42617.</td> \n",
       "</tr>\n",
       "<tr>\n",
       "  <th>No. Observations:</th>      <td>  3558</td>      <th>  AIC:               </th> <td>8.527e+04</td>\n",
       "</tr>\n",
       "<tr>\n",
       "  <th>Df Residuals:</th>          <td>  3538</td>      <th>  BIC:               </th> <td>8.540e+04</td>\n",
       "</tr>\n",
       "<tr>\n",
       "  <th>Df Model:</th>              <td>    19</td>      <th>                     </th>     <td> </td>    \n",
       "</tr>\n",
       "<tr>\n",
       "  <th>Covariance Type:</th>      <td>nonrobust</td>    <th>                     </th>     <td> </td>    \n",
       "</tr>\n",
       "</table>\n",
       "<table class=\"simpletable\">\n",
       "<tr>\n",
       "          <td></td>            <th>coef</th>     <th>std err</th>      <th>t</th>      <th>P>|t|</th>  <th>[0.025</th>    <th>0.975]</th>  \n",
       "</tr>\n",
       "<tr>\n",
       "  <th>const</th>            <td>-7686.0980</td> <td> 1093.286</td> <td>   -7.030</td> <td> 0.000</td> <td>-9829.632</td> <td>-5542.564</td>\n",
       "</tr>\n",
       "<tr>\n",
       "  <th>Carpet Area</th>      <td>-2885.0807</td> <td>  965.334</td> <td>   -2.989</td> <td> 0.003</td> <td>-4777.747</td> <td> -992.414</td>\n",
       "</tr>\n",
       "<tr>\n",
       "  <th>Super Area</th>       <td>-4801.0174</td> <td> 1033.599</td> <td>   -4.645</td> <td> 0.000</td> <td>-6827.527</td> <td>-2774.508</td>\n",
       "</tr>\n",
       "<tr>\n",
       "  <th>Bangalore</th>        <td>-9907.5465</td> <td> 1462.803</td> <td>   -6.773</td> <td> 0.000</td> <td>-1.28e+04</td> <td>-7039.524</td>\n",
       "</tr>\n",
       "<tr>\n",
       "  <th>Chennai</th>          <td>-1.302e+04</td> <td> 1487.739</td> <td>   -8.748</td> <td> 0.000</td> <td>-1.59e+04</td> <td>-1.01e+04</td>\n",
       "</tr>\n",
       "<tr>\n",
       "  <th>Delhi</th>            <td> 1076.6445</td> <td> 1776.013</td> <td>    0.606</td> <td> 0.544</td> <td>-2405.468</td> <td> 4558.757</td>\n",
       "</tr>\n",
       "<tr>\n",
       "  <th>Hyderabad</th>        <td> -2.09e+04</td> <td> 1542.772</td> <td>  -13.550</td> <td> 0.000</td> <td>-2.39e+04</td> <td>-1.79e+04</td>\n",
       "</tr>\n",
       "<tr>\n",
       "  <th>Kolkata</th>          <td>-9042.8361</td> <td> 1891.014</td> <td>   -4.782</td> <td> 0.000</td> <td>-1.28e+04</td> <td>-5335.248</td>\n",
       "</tr>\n",
       "<tr>\n",
       "  <th>Mumbai</th>           <td> 4.411e+04</td> <td> 1916.801</td> <td>   23.011</td> <td> 0.000</td> <td> 4.03e+04</td> <td> 4.79e+04</td>\n",
       "</tr>\n",
       "<tr>\n",
       "  <th>Furnished</th>        <td> 4036.9885</td> <td> 1361.965</td> <td>    2.964</td> <td> 0.003</td> <td> 1366.674</td> <td> 6707.304</td>\n",
       "</tr>\n",
       "<tr>\n",
       "  <th>Semi-Furnished</th>   <td>-6119.6704</td> <td> 1009.770</td> <td>   -6.060</td> <td> 0.000</td> <td>-8099.460</td> <td>-4139.881</td>\n",
       "</tr>\n",
       "<tr>\n",
       "  <th>Unfurnished</th>      <td>-5603.4162</td> <td> 1019.140</td> <td>   -5.498</td> <td> 0.000</td> <td>-7601.577</td> <td>-3605.256</td>\n",
       "</tr>\n",
       "<tr>\n",
       "  <th>Bachelors</th>        <td>-2093.9415</td> <td> 1387.725</td> <td>   -1.509</td> <td> 0.131</td> <td>-4814.763</td> <td>  626.880</td>\n",
       "</tr>\n",
       "<tr>\n",
       "  <th>Bachelors/Family</th> <td> 1098.1160</td> <td> 1058.289</td> <td>    1.038</td> <td> 0.300</td> <td> -976.802</td> <td> 3173.034</td>\n",
       "</tr>\n",
       "<tr>\n",
       "  <th>Family</th>           <td>-6690.2726</td> <td> 1616.881</td> <td>   -4.138</td> <td> 0.000</td> <td>-9860.385</td> <td>-3520.160</td>\n",
       "</tr>\n",
       "<tr>\n",
       "  <th>Contact Agent</th>    <td>  361.7191</td> <td> 1232.734</td> <td>    0.293</td> <td> 0.769</td> <td>-2055.223</td> <td> 2778.661</td>\n",
       "</tr>\n",
       "<tr>\n",
       "  <th>Contact Owner</th>    <td>-8047.8172</td> <td> 1080.541</td> <td>   -7.448</td> <td> 0.000</td> <td>-1.02e+04</td> <td>-5929.271</td>\n",
       "</tr>\n",
       "<tr>\n",
       "  <th>Cobertura</th>        <td> 1950.9151</td> <td> 6249.594</td> <td>    0.312</td> <td> 0.755</td> <td>-1.03e+04</td> <td> 1.42e+04</td>\n",
       "</tr>\n",
       "<tr>\n",
       "  <th>Predio Grande</th>    <td>-6680.0870</td> <td> 2845.512</td> <td>   -2.348</td> <td> 0.019</td> <td>-1.23e+04</td> <td>-1101.078</td>\n",
       "</tr>\n",
       "<tr>\n",
       "  <th>Predio Pequeno</th>   <td>-2956.9261</td> <td> 2870.268</td> <td>   -1.030</td> <td> 0.303</td> <td>-8584.473</td> <td> 2670.621</td>\n",
       "</tr>\n",
       "<tr>\n",
       "  <th>4</th>                <td>-2549.6398</td> <td> 2374.272</td> <td>   -1.074</td> <td> 0.283</td> <td>-7204.720</td> <td> 2105.441</td>\n",
       "</tr>\n",
       "<tr>\n",
       "  <th>5</th>                <td>-1627.2596</td> <td> 1189.126</td> <td>   -1.368</td> <td> 0.171</td> <td>-3958.702</td> <td>  704.183</td>\n",
       "</tr>\n",
       "<tr>\n",
       "  <th>6</th>                <td>-2388.6648</td> <td> 1171.379</td> <td>   -2.039</td> <td> 0.042</td> <td>-4685.310</td> <td>  -92.019</td>\n",
       "</tr>\n",
       "<tr>\n",
       "  <th>7</th>                <td>-1120.5339</td> <td> 1451.384</td> <td>   -0.772</td> <td> 0.440</td> <td>-3966.167</td> <td> 1725.100</td>\n",
       "</tr>\n",
       "<tr>\n",
       "  <th>BHK</th>              <td> 2535.9115</td> <td> 1465.581</td> <td>    1.730</td> <td> 0.084</td> <td> -337.558</td> <td> 5409.381</td>\n",
       "</tr>\n",
       "<tr>\n",
       "  <th>Size</th>             <td>   32.5521</td> <td>    1.759</td> <td>   18.511</td> <td> 0.000</td> <td>   29.104</td> <td>   36.000</td>\n",
       "</tr>\n",
       "<tr>\n",
       "  <th>Bathroom</th>         <td> 1.263e+04</td> <td> 1487.062</td> <td>    8.491</td> <td> 0.000</td> <td> 9711.275</td> <td> 1.55e+04</td>\n",
       "</tr>\n",
       "</table>\n",
       "<table class=\"simpletable\">\n",
       "<tr>\n",
       "  <th>Omnibus:</th>       <td>4741.033</td> <th>  Durbin-Watson:     </th>  <td>   2.023</td>  \n",
       "</tr>\n",
       "<tr>\n",
       "  <th>Prob(Omnibus):</th>  <td> 0.000</td>  <th>  Jarque-Bera (JB):  </th> <td>1725070.257</td>\n",
       "</tr>\n",
       "<tr>\n",
       "  <th>Skew:</th>           <td> 7.253</td>  <th>  Prob(JB):          </th>  <td>    0.00</td>  \n",
       "</tr>\n",
       "<tr>\n",
       "  <th>Kurtosis:</th>       <td>109.892</td> <th>  Cond. No.          </th>  <td>4.07e+17</td>  \n",
       "</tr>\n",
       "</table><br/><br/>Notes:<br/>[1] Standard Errors assume that the covariance matrix of the errors is correctly specified.<br/>[2] The smallest eigenvalue is 2.82e-26. This might indicate that there are<br/>strong multicollinearity problems or that the design matrix is singular."
      ],
      "text/plain": [
       "<class 'statsmodels.iolib.summary.Summary'>\n",
       "\"\"\"\n",
       "                            OLS Regression Results                            \n",
       "==============================================================================\n",
       "Dep. Variable:                   Rent   R-squared:                       0.524\n",
       "Model:                            OLS   Adj. R-squared:                  0.522\n",
       "Method:                 Least Squares   F-statistic:                     205.2\n",
       "Date:                Tue, 06 Sep 2022   Prob (F-statistic):               0.00\n",
       "Time:                        13:52:13   Log-Likelihood:                -42617.\n",
       "No. Observations:                3558   AIC:                         8.527e+04\n",
       "Df Residuals:                    3538   BIC:                         8.540e+04\n",
       "Df Model:                          19                                         \n",
       "Covariance Type:            nonrobust                                         \n",
       "====================================================================================\n",
       "                       coef    std err          t      P>|t|      [0.025      0.975]\n",
       "------------------------------------------------------------------------------------\n",
       "const            -7686.0980   1093.286     -7.030      0.000   -9829.632   -5542.564\n",
       "Carpet Area      -2885.0807    965.334     -2.989      0.003   -4777.747    -992.414\n",
       "Super Area       -4801.0174   1033.599     -4.645      0.000   -6827.527   -2774.508\n",
       "Bangalore        -9907.5465   1462.803     -6.773      0.000   -1.28e+04   -7039.524\n",
       "Chennai          -1.302e+04   1487.739     -8.748      0.000   -1.59e+04   -1.01e+04\n",
       "Delhi             1076.6445   1776.013      0.606      0.544   -2405.468    4558.757\n",
       "Hyderabad         -2.09e+04   1542.772    -13.550      0.000   -2.39e+04   -1.79e+04\n",
       "Kolkata          -9042.8361   1891.014     -4.782      0.000   -1.28e+04   -5335.248\n",
       "Mumbai            4.411e+04   1916.801     23.011      0.000    4.03e+04    4.79e+04\n",
       "Furnished         4036.9885   1361.965      2.964      0.003    1366.674    6707.304\n",
       "Semi-Furnished   -6119.6704   1009.770     -6.060      0.000   -8099.460   -4139.881\n",
       "Unfurnished      -5603.4162   1019.140     -5.498      0.000   -7601.577   -3605.256\n",
       "Bachelors        -2093.9415   1387.725     -1.509      0.131   -4814.763     626.880\n",
       "Bachelors/Family  1098.1160   1058.289      1.038      0.300    -976.802    3173.034\n",
       "Family           -6690.2726   1616.881     -4.138      0.000   -9860.385   -3520.160\n",
       "Contact Agent      361.7191   1232.734      0.293      0.769   -2055.223    2778.661\n",
       "Contact Owner    -8047.8172   1080.541     -7.448      0.000   -1.02e+04   -5929.271\n",
       "Cobertura         1950.9151   6249.594      0.312      0.755   -1.03e+04    1.42e+04\n",
       "Predio Grande    -6680.0870   2845.512     -2.348      0.019   -1.23e+04   -1101.078\n",
       "Predio Pequeno   -2956.9261   2870.268     -1.030      0.303   -8584.473    2670.621\n",
       "4                -2549.6398   2374.272     -1.074      0.283   -7204.720    2105.441\n",
       "5                -1627.2596   1189.126     -1.368      0.171   -3958.702     704.183\n",
       "6                -2388.6648   1171.379     -2.039      0.042   -4685.310     -92.019\n",
       "7                -1120.5339   1451.384     -0.772      0.440   -3966.167    1725.100\n",
       "BHK               2535.9115   1465.581      1.730      0.084    -337.558    5409.381\n",
       "Size                32.5521      1.759     18.511      0.000      29.104      36.000\n",
       "Bathroom          1.263e+04   1487.062      8.491      0.000    9711.275    1.55e+04\n",
       "==============================================================================\n",
       "Omnibus:                     4741.033   Durbin-Watson:                   2.023\n",
       "Prob(Omnibus):                  0.000   Jarque-Bera (JB):          1725070.257\n",
       "Skew:                           7.253   Prob(JB):                         0.00\n",
       "Kurtosis:                     109.892   Cond. No.                     4.07e+17\n",
       "==============================================================================\n",
       "\n",
       "Notes:\n",
       "[1] Standard Errors assume that the covariance matrix of the errors is correctly specified.\n",
       "[2] The smallest eigenvalue is 2.82e-26. This might indicate that there are\n",
       "strong multicollinearity problems or that the design matrix is singular.\n",
       "\"\"\""
      ]
     },
     "execution_count": 47,
     "metadata": {},
     "output_type": "execute_result"
    }
   ],
   "source": [
    "import statsmodels.api as sm\n",
    "from statsmodels.formula.api import ols\n",
    "from matplotlib import style\n",
    "\n",
    "X = df_final.copy()\n",
    "y = df['Rent']\n",
    "\n",
    "\n",
    "def sm_model(X,y):\n",
    "    X_train, X_test, y_train, y_test = train_test_split(X,y,random_state=0)  \n",
    "    X_train = sm.add_constant(X_train)\n",
    "    X_test = sm.add_constant(X_test)\n",
    "    lr_sm = sm.OLS(y_train,X_train).fit()\n",
    "    y_pred = lr_sm.predict(X_test)\n",
    "    return lr_sm.summary()\n",
    "sm_model(X,y)\n",
    "#Correlações das variáveis\n",
    "#style.use('dark_background')\n",
    "#fig, ax = plt.subplots(figsize=(20,20))\n",
    "#sns.heatmap(X.corr(),annot=True)"
   ]
  },
  {
   "cell_type": "markdown",
   "id": "f52be172",
   "metadata": {},
   "source": [
    "#### Retirando variaveis correlacionadas"
   ]
  },
  {
   "cell_type": "code",
   "execution_count": 77,
   "id": "96d40998",
   "metadata": {
    "scrolled": true
   },
   "outputs": [
    {
     "data": {
      "text/html": [
       "<table class=\"simpletable\">\n",
       "<caption>OLS Regression Results</caption>\n",
       "<tr>\n",
       "  <th>Dep. Variable:</th>          <td>Rent</td>       <th>  R-squared:         </th> <td>   0.325</td> \n",
       "</tr>\n",
       "<tr>\n",
       "  <th>Model:</th>                   <td>OLS</td>       <th>  Adj. R-squared:    </th> <td>   0.323</td> \n",
       "</tr>\n",
       "<tr>\n",
       "  <th>Method:</th>             <td>Least Squares</td>  <th>  F-statistic:       </th> <td>   142.4</td> \n",
       "</tr>\n",
       "<tr>\n",
       "  <th>Date:</th>             <td>Tue, 06 Sep 2022</td> <th>  Prob (F-statistic):</th> <td>8.05e-292</td>\n",
       "</tr>\n",
       "<tr>\n",
       "  <th>Time:</th>                 <td>19:56:07</td>     <th>  Log-Likelihood:    </th> <td> -43239.</td> \n",
       "</tr>\n",
       "<tr>\n",
       "  <th>No. Observations:</th>      <td>  3558</td>      <th>  AIC:               </th> <td>8.650e+04</td>\n",
       "</tr>\n",
       "<tr>\n",
       "  <th>Df Residuals:</th>          <td>  3545</td>      <th>  BIC:               </th> <td>8.658e+04</td>\n",
       "</tr>\n",
       "<tr>\n",
       "  <th>Df Model:</th>              <td>    12</td>      <th>                     </th>     <td> </td>    \n",
       "</tr>\n",
       "<tr>\n",
       "  <th>Covariance Type:</th>      <td>nonrobust</td>    <th>                     </th>     <td> </td>    \n",
       "</tr>\n",
       "</table>\n",
       "<table class=\"simpletable\">\n",
       "<tr>\n",
       "         <td></td>           <th>coef</th>     <th>std err</th>      <th>t</th>      <th>P>|t|</th>  <th>[0.025</th>    <th>0.975]</th>  \n",
       "</tr>\n",
       "<tr>\n",
       "  <th>const</th>          <td> 1.057e+04</td> <td> 1814.973</td> <td>    5.826</td> <td> 0.000</td> <td> 7015.127</td> <td> 1.41e+04</td>\n",
       "</tr>\n",
       "<tr>\n",
       "  <th>Carpet Area</th>    <td> 6680.7133</td> <td> 1164.258</td> <td>    5.738</td> <td> 0.000</td> <td> 4398.030</td> <td> 8963.397</td>\n",
       "</tr>\n",
       "<tr>\n",
       "  <th>Super Area</th>     <td> 3892.9101</td> <td> 1443.164</td> <td>    2.697</td> <td> 0.007</td> <td> 1063.394</td> <td> 6722.426</td>\n",
       "</tr>\n",
       "<tr>\n",
       "  <th>Bangalore</th>      <td>-1.544e+04</td> <td> 2972.730</td> <td>   -5.193</td> <td> 0.000</td> <td>-2.13e+04</td> <td>-9608.272</td>\n",
       "</tr>\n",
       "<tr>\n",
       "  <th>Chennai</th>        <td>-8917.9242</td> <td> 2953.830</td> <td>   -3.019</td> <td> 0.003</td> <td>-1.47e+04</td> <td>-3126.546</td>\n",
       "</tr>\n",
       "<tr>\n",
       "  <th>Hyderabad</th>      <td>-1.356e+04</td> <td> 3096.317</td> <td>   -4.379</td> <td> 0.000</td> <td>-1.96e+04</td> <td>-7487.310</td>\n",
       "</tr>\n",
       "<tr>\n",
       "  <th>Kolkata</th>        <td>-1.635e+04</td> <td> 3281.094</td> <td>   -4.984</td> <td> 0.000</td> <td>-2.28e+04</td> <td>-9920.197</td>\n",
       "</tr>\n",
       "<tr>\n",
       "  <th>Mumbai</th>         <td> 3.572e+04</td> <td> 3280.864</td> <td>   10.888</td> <td> 0.000</td> <td> 2.93e+04</td> <td> 4.22e+04</td>\n",
       "</tr>\n",
       "<tr>\n",
       "  <th>Furnished</th>      <td> 1.208e+04</td> <td> 1717.741</td> <td>    7.030</td> <td> 0.000</td> <td> 8707.229</td> <td> 1.54e+04</td>\n",
       "</tr>\n",
       "<tr>\n",
       "  <th>Semi-Furnished</th> <td> 3127.4475</td> <td> 1225.186</td> <td>    2.553</td> <td> 0.011</td> <td>  725.308</td> <td> 5529.587</td>\n",
       "</tr>\n",
       "<tr>\n",
       "  <th>Unfurnished</th>    <td>-4628.9125</td> <td> 1250.097</td> <td>   -3.703</td> <td> 0.000</td> <td>-7079.895</td> <td>-2177.930</td>\n",
       "</tr>\n",
       "<tr>\n",
       "  <th>Family</th>         <td> -470.2347</td> <td> 2636.228</td> <td>   -0.178</td> <td> 0.858</td> <td>-5638.912</td> <td> 4698.442</td>\n",
       "</tr>\n",
       "<tr>\n",
       "  <th>Contact Owner</th>  <td>-2.493e+04</td> <td> 2312.830</td> <td>  -10.781</td> <td> 0.000</td> <td>-2.95e+04</td> <td>-2.04e+04</td>\n",
       "</tr>\n",
       "<tr>\n",
       "  <th>Predio Grande</th>  <td> 5259.0068</td> <td> 2147.580</td> <td>    2.449</td> <td> 0.014</td> <td> 1048.389</td> <td> 9469.624</td>\n",
       "</tr>\n",
       "<tr>\n",
       "  <th>Size/BHK</th>       <td>  141.8579</td> <td>    9.377</td> <td>   15.128</td> <td> 0.000</td> <td>  123.473</td> <td>  160.243</td>\n",
       "</tr>\n",
       "</table>\n",
       "<table class=\"simpletable\">\n",
       "<tr>\n",
       "  <th>Omnibus:</th>       <td>4456.130</td> <th>  Durbin-Watson:     </th>  <td>   2.002</td> \n",
       "</tr>\n",
       "<tr>\n",
       "  <th>Prob(Omnibus):</th>  <td> 0.000</td>  <th>  Jarque-Bera (JB):  </th> <td>964948.748</td>\n",
       "</tr>\n",
       "<tr>\n",
       "  <th>Skew:</th>           <td> 6.640</td>  <th>  Prob(JB):          </th>  <td>    0.00</td> \n",
       "</tr>\n",
       "<tr>\n",
       "  <th>Kurtosis:</th>       <td>82.577</td>  <th>  Cond. No.          </th>  <td>2.27e+17</td> \n",
       "</tr>\n",
       "</table><br/><br/>Notes:<br/>[1] Standard Errors assume that the covariance matrix of the errors is correctly specified.<br/>[2] The smallest eigenvalue is 4.31e-27. This might indicate that there are<br/>strong multicollinearity problems or that the design matrix is singular."
      ],
      "text/plain": [
       "<class 'statsmodels.iolib.summary.Summary'>\n",
       "\"\"\"\n",
       "                            OLS Regression Results                            \n",
       "==============================================================================\n",
       "Dep. Variable:                   Rent   R-squared:                       0.325\n",
       "Model:                            OLS   Adj. R-squared:                  0.323\n",
       "Method:                 Least Squares   F-statistic:                     142.4\n",
       "Date:                Tue, 06 Sep 2022   Prob (F-statistic):          8.05e-292\n",
       "Time:                        19:56:07   Log-Likelihood:                -43239.\n",
       "No. Observations:                3558   AIC:                         8.650e+04\n",
       "Df Residuals:                    3545   BIC:                         8.658e+04\n",
       "Df Model:                          12                                         \n",
       "Covariance Type:            nonrobust                                         \n",
       "==================================================================================\n",
       "                     coef    std err          t      P>|t|      [0.025      0.975]\n",
       "----------------------------------------------------------------------------------\n",
       "const           1.057e+04   1814.973      5.826      0.000    7015.127    1.41e+04\n",
       "Carpet Area     6680.7133   1164.258      5.738      0.000    4398.030    8963.397\n",
       "Super Area      3892.9101   1443.164      2.697      0.007    1063.394    6722.426\n",
       "Bangalore      -1.544e+04   2972.730     -5.193      0.000   -2.13e+04   -9608.272\n",
       "Chennai        -8917.9242   2953.830     -3.019      0.003   -1.47e+04   -3126.546\n",
       "Hyderabad      -1.356e+04   3096.317     -4.379      0.000   -1.96e+04   -7487.310\n",
       "Kolkata        -1.635e+04   3281.094     -4.984      0.000   -2.28e+04   -9920.197\n",
       "Mumbai          3.572e+04   3280.864     10.888      0.000    2.93e+04    4.22e+04\n",
       "Furnished       1.208e+04   1717.741      7.030      0.000    8707.229    1.54e+04\n",
       "Semi-Furnished  3127.4475   1225.186      2.553      0.011     725.308    5529.587\n",
       "Unfurnished    -4628.9125   1250.097     -3.703      0.000   -7079.895   -2177.930\n",
       "Family          -470.2347   2636.228     -0.178      0.858   -5638.912    4698.442\n",
       "Contact Owner  -2.493e+04   2312.830    -10.781      0.000   -2.95e+04   -2.04e+04\n",
       "Predio Grande   5259.0068   2147.580      2.449      0.014    1048.389    9469.624\n",
       "Size/BHK         141.8579      9.377     15.128      0.000     123.473     160.243\n",
       "==============================================================================\n",
       "Omnibus:                     4456.130   Durbin-Watson:                   2.002\n",
       "Prob(Omnibus):                  0.000   Jarque-Bera (JB):           964948.748\n",
       "Skew:                           6.640   Prob(JB):                         0.00\n",
       "Kurtosis:                      82.577   Cond. No.                     2.27e+17\n",
       "==============================================================================\n",
       "\n",
       "Notes:\n",
       "[1] Standard Errors assume that the covariance matrix of the errors is correctly specified.\n",
       "[2] The smallest eigenvalue is 4.31e-27. This might indicate that there are\n",
       "strong multicollinearity problems or that the design matrix is singular.\n",
       "\"\"\""
      ]
     },
     "execution_count": 77,
     "metadata": {},
     "output_type": "execute_result"
    }
   ],
   "source": [
    "#print(X.corr() > 0.5)\n",
    "X_new = X.copy()\n",
    "#high_corr = ['Carpet Area','Contact Agent','Super Area','Contact Owner',]\n",
    "#['BHK','Size','Bathroom']\n",
    "X_new['Size/BHK'] = X_new['Size']/(X_new['BHK'] + X_new['Bathroom'])\n",
    "X_new = X_new.drop(columns=['BHK','Size','Bathroom','Delhi','Bachelors','Bachelors/Family','Contact Agent','Cobertura',\n",
    "                        'Predio Pequeno',4,5,7,6])\n",
    "sm_model(X_new,y)\n",
    "\n",
    "#Quando tiramos as variáveis sem significância percebe-se que nosso modelo perde quase 0.2 de R2 \n",
    "# e ainda há presença de multicolinearidade"
   ]
  },
  {
   "cell_type": "code",
   "execution_count": 29,
   "id": "a1d36591",
   "metadata": {},
   "outputs": [],
   "source": [
    "## Removing Multicollinearity.\n",
    "#As vezes voce só precisa de uma variável para explicar o resto das outras podendo chegar no melhor\n",
    "#modelo.\n",
    "#Nota-se que ao fazer o Vif das dummys encontra-se valores altissimos."
   ]
  },
  {
   "cell_type": "code",
   "execution_count": 78,
   "id": "c53327af",
   "metadata": {
    "scrolled": false
   },
   "outputs": [],
   "source": [
    "from statsmodels.stats.outliers_influence import variance_inflation_factor\n",
    "X_new = X.copy()\n",
    "\n",
    "\n",
    "def vif(X):\n",
    "    df_vif = pd.Series([variance_inflation_factor(X.values, i) \n",
    "                   for i in range(X.shape[1])], \n",
    "                  index=X.columns).sort_values(ascending=False)\n",
    "    return df_vif \n",
    "def correlograma(X):  \n",
    "    style.use('dark_background')\n",
    "    fig, ax = plt.subplots(figsize=(20,20))\n",
    "    sns.heatmap(X.corr(),annot=True)\n",
    "    return\n",
    "#Nota-se que será quase impossível retirar a multicolinearidade desse modelo, então um método\n",
    "#bem conhecido e que achei é o de pca, entretanto reduz nosso R2...\n"
   ]
  },
  {
   "cell_type": "code",
   "execution_count": null,
   "id": "70aa7a20",
   "metadata": {},
   "outputs": [],
   "source": []
  }
 ],
 "metadata": {
  "kernelspec": {
   "display_name": "Python 3 (ipykernel)",
   "language": "python",
   "name": "python3"
  },
  "language_info": {
   "codemirror_mode": {
    "name": "ipython",
    "version": 3
   },
   "file_extension": ".py",
   "mimetype": "text/x-python",
   "name": "python",
   "nbconvert_exporter": "python",
   "pygments_lexer": "ipython3",
   "version": "3.9.12"
  }
 },
 "nbformat": 4,
 "nbformat_minor": 5
}
